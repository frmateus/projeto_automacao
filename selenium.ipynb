{
 "cells": [
  {
   "cell_type": "code",
   "execution_count": 131,
   "metadata": {},
   "outputs": [],
   "source": [
    "import time\n",
    "from selenium import webdriver\n",
    "from selenium.webdriver.common.by import By\n",
    "from selenium.webdriver.common.keys import Keys\n",
    "from selenium.webdriver.support.ui import WebDriverWait\n",
    "from selenium.webdriver.support import expected_conditions as EC\n",
    "\n"
   ]
  },
  {
   "cell_type": "code",
   "execution_count": 132,
   "metadata": {},
   "outputs": [],
   "source": [
    "navegador = webdriver.Chrome()"
   ]
  },
  {
   "cell_type": "code",
   "execution_count": 133,
   "metadata": {},
   "outputs": [],
   "source": [
    "\n",
    "navegador.get('https://www.google.com.br')"
   ]
  },
  {
   "cell_type": "code",
   "execution_count": 134,
   "metadata": {},
   "outputs": [],
   "source": [
    "campo_busca = navegador.find_element(By.NAME, 'q')"
   ]
  },
  {
   "cell_type": "code",
   "execution_count": 135,
   "metadata": {},
   "outputs": [],
   "source": [
    "campo_busca.send_keys('Banco Central do Brasil')"
   ]
  },
  {
   "cell_type": "code",
   "execution_count": 136,
   "metadata": {},
   "outputs": [],
   "source": [
    "time.sleep(5)"
   ]
  },
  {
   "cell_type": "code",
   "execution_count": 137,
   "metadata": {},
   "outputs": [],
   "source": [
    "botao = WebDriverWait(navegador, 5).until( EC.element_to_be_clickable((By.NAME, 'btnK')))\n",
    "botao.click()"
   ]
  },
  {
   "cell_type": "code",
   "execution_count": 138,
   "metadata": {},
   "outputs": [],
   "source": [
    "navegador.find_element(By.CLASS_NAME, 'LC20lb').click()"
   ]
  },
  {
   "cell_type": "code",
   "execution_count": 139,
   "metadata": {},
   "outputs": [],
   "source": [
    "time.sleep(5)"
   ]
  },
  {
   "cell_type": "code",
   "execution_count": 140,
   "metadata": {},
   "outputs": [
    {
     "name": "stdout",
     "output_type": "stream",
     "text": [
      "Notificação de cookies fechada.\n"
     ]
    }
   ],
   "source": [
    "try:\n",
    "        cookie_button = WebDriverWait(navegador, 5).until(\n",
    "            EC.element_to_be_clickable((By.XPATH, \"//button[contains(text(),'Aceitar') or contains(text(),'Prosseguir')]\"))\n",
    "        )\n",
    "        cookie_button.click()\n",
    "        print(\"Notificação de cookies fechada.\")\n",
    "except Exception as e:\n",
    "        print(\"Não foi possível fechar a notificação de cookies ou ela não apareceu.\")"
   ]
  },
  {
   "cell_type": "code",
   "execution_count": 141,
   "metadata": {},
   "outputs": [],
   "source": [
    "time.sleep(5)"
   ]
  },
  {
   "cell_type": "code",
   "execution_count": 142,
   "metadata": {},
   "outputs": [],
   "source": [
    "navegador.get(\"https://www.bcb.gov.br/conversao\")"
   ]
  },
  {
   "cell_type": "code",
   "execution_count": 143,
   "metadata": {},
   "outputs": [],
   "source": [
    "time.sleep(5)"
   ]
  },
  {
   "cell_type": "code",
   "execution_count": 144,
   "metadata": {},
   "outputs": [],
   "source": [
    "valor_a_converter = WebDriverWait(navegador, 20).until(\n",
    "        EC.presence_of_element_located((By.CSS_SELECTOR, 'input[name=\"valorBRL\"]'))\n",
    "    )\n",
    "valor_a_converter.send_keys('10000')\n",
    "    "
   ]
  },
  {
   "cell_type": "code",
   "execution_count": 145,
   "metadata": {},
   "outputs": [],
   "source": [
    "time.sleep(5)"
   ]
  },
  {
   "cell_type": "code",
   "execution_count": 146,
   "metadata": {},
   "outputs": [],
   "source": [
    "moeda_origem = WebDriverWait(navegador, 10).until(\n",
    "        EC.presence_of_element_located((By.ID, 'button-converter-de'))\n",
    "    )\n",
    "moeda_origem.click()"
   ]
  },
  {
   "cell_type": "code",
   "execution_count": 147,
   "metadata": {},
   "outputs": [],
   "source": [
    "time.sleep(5)"
   ]
  },
  {
   "cell_type": "code",
   "execution_count": 148,
   "metadata": {},
   "outputs": [],
   "source": [
    "opcao_real = WebDriverWait(navegador, 20).until(\n",
    "        EC.element_to_be_clickable((By.XPATH, \"//button[contains(text(),'Real (BRL)')]\"))\n",
    "    )\n",
    "opcao_real.click()"
   ]
  },
  {
   "cell_type": "code",
   "execution_count": 149,
   "metadata": {},
   "outputs": [],
   "source": [
    "moeda_destino = WebDriverWait(navegador, 10).until(\n",
    "        EC.presence_of_element_located((By.ID, 'button-converter-para'))\n",
    "    )\n",
    "moeda_destino.click()"
   ]
  },
  {
   "cell_type": "code",
   "execution_count": 150,
   "metadata": {},
   "outputs": [],
   "source": [
    "time.sleep(5)"
   ]
  },
  {
   "cell_type": "code",
   "execution_count": 151,
   "metadata": {},
   "outputs": [],
   "source": [
    "opcao_dolar = WebDriverWait(navegador, 20).until(\n",
    "        EC.element_to_be_clickable((By.XPATH, \"//button[contains(text(),'Dólar dos Estados Unidos (USD)')]\"))\n",
    "    )\n",
    "opcao_dolar.click()"
   ]
  },
  {
   "cell_type": "code",
   "execution_count": 152,
   "metadata": {},
   "outputs": [],
   "source": [
    "botao_converter = WebDriverWait(navegador, 10).until(\n",
    "        EC.element_to_be_clickable((By.XPATH, \"//span[text()='refresh']\"))\n",
    "    )\n",
    "botao_converter.click()"
   ]
  },
  {
   "cell_type": "code",
   "execution_count": 153,
   "metadata": {},
   "outputs": [],
   "source": [
    "time.sleep(5)"
   ]
  },
  {
   "cell_type": "code",
   "execution_count": 154,
   "metadata": {},
   "outputs": [],
   "source": [
    "resultado_elemento = WebDriverWait(navegador, 30).until(\n",
    "    EC.visibility_of_element_located((By.XPATH, \"//div[contains(@class, 'card-body') and contains(., 'Resultado da conversão:')]\"))\n",
    ")\n",
    "\n"
   ]
  },
  {
   "cell_type": "code",
   "execution_count": null,
   "metadata": {},
   "outputs": [],
   "source": [
    "print(f\"RESULTADO DA CONVERSÃO: {resultado_elemento.text}\")"
   ]
  },
  {
   "cell_type": "code",
   "execution_count": 156,
   "metadata": {},
   "outputs": [
    {
     "data": {
      "text/plain": [
       "True"
      ]
     },
     "execution_count": 156,
     "metadata": {},
     "output_type": "execute_result"
    }
   ],
   "source": [
    "resultado_elemento.screenshot('elemento.png')"
   ]
  },
  {
   "cell_type": "code",
   "execution_count": 157,
   "metadata": {},
   "outputs": [
    {
     "data": {
      "text/plain": [
       "True"
      ]
     },
     "execution_count": 157,
     "metadata": {},
     "output_type": "execute_result"
    }
   ],
   "source": [
    "navegador.get_screenshot_as_file('captura_tela.png')"
   ]
  },
  {
   "cell_type": "code",
   "execution_count": 158,
   "metadata": {},
   "outputs": [],
   "source": [
    "\n",
    "navegador.quit()\n",
    "    "
   ]
  }
 ],
 "metadata": {
  "kernelspec": {
   "display_name": "Python 3",
   "language": "python",
   "name": "python3"
  },
  "language_info": {
   "codemirror_mode": {
    "name": "ipython",
    "version": 3
   },
   "file_extension": ".py",
   "mimetype": "text/x-python",
   "name": "python",
   "nbconvert_exporter": "python",
   "pygments_lexer": "ipython3",
   "version": "3.10.8"
  }
 },
 "nbformat": 4,
 "nbformat_minor": 2
}
